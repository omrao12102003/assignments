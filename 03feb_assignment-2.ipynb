{
 "cells": [
  {
   "cell_type": "code",
   "execution_count": 4,
   "metadata": {},
   "outputs": [
    {
     "name": "stdout",
     "output_type": "stream",
     "text": [
      "List of odd numbers: [1, 3, 5, 7, 9, 11, 13, 15, 17, 19, 21, 23, 25]\n"
     ]
    }
   ],
   "source": [
    "#Q1\n",
    "\"\"\"the keyword used to create a function is def.\"\"\"\n",
    "def get_odd_numbers():\n",
    "    num = int\n",
    "    odd_numbers = [num for num in range(1, 26) if num % 2 != 0]\n",
    "    return odd_numbers\n",
    "\n",
    "result = get_odd_numbers()\n",
    "print(\"List of odd numbers:\", result)\n",
    "      "
   ]
  },
  {
   "cell_type": "code",
   "execution_count": 10,
   "metadata": {},
   "outputs": [
    {
     "name": "stdout",
     "output_type": "stream",
     "text": [
      "3\n",
      "42\n",
      "797\n",
      "name:om\n",
      "age:29\n",
      "course:datascience\n",
      "skills_learning_from:pwskills\n",
      "education:btech-cse\n"
     ]
    }
   ],
   "source": [
    "#Q2\n",
    "\"\"\"args is used to declare as many no of arguments we want to. also what ever we pass it will be in tuple form\"\"\"\n",
    "def add(*numbers):\n",
    "    total =0\n",
    "    for num in numbers:\n",
    "        total = total+ num # \"+= is a assignment operator used as var = var + value\"\n",
    "    return total\n",
    "\n",
    "print(add(1,2))\n",
    "print(add(1,2,3,4,5,6,6,7,8))\n",
    "print(add(45,578,76,98))\n",
    "\n",
    "\"\"\"**kwargs is used when the user want the output and its function in form of key-value form\"\"\"\n",
    "def display_info(**kwargs):\n",
    "    for key , value in kwargs.items():\n",
    "        print(f\"{key}:{value}\")\n",
    "\n",
    "display_info(name=\"om\",age=\"29\",course=\"datascience\",skills_learning_from=\"pwskills\",education=\"btech-cse\")\n"
   ]
  },
  {
   "cell_type": "code",
   "execution_count": 11,
   "metadata": {},
   "outputs": [
    {
     "name": "stdout",
     "output_type": "stream",
     "text": [
      "2\n",
      "4\n",
      "6\n",
      "8\n",
      "10\n"
     ]
    }
   ],
   "source": [
    "#Q3\n",
    "\"\"\"an iterator is an object that represents a stream of data. It implements two methods, __iter__() and __next__(), that allow it to be used in a for loop to iterate over a sequence of values.\n",
    "To initialize an iterator object, you can use the iter() function. The iter() function takes an iterable (like a list) as an argument and returns an iterator object. The __next__() method is called to get the next value from the iterator\"\"\"\n",
    "my_list = [2, 4, 6, 8, 10, 12, 14, 16, 18, 20]\n",
    "my_iterator = iter(my_list)\n",
    "for _ in range(5):\n",
    "    print(next(my_iterator))"
   ]
  },
  {
   "cell_type": "code",
   "execution_count": 15,
   "metadata": {},
   "outputs": [
    {
     "name": "stdout",
     "output_type": "stream",
     "text": [
      "1\n",
      "4\n",
      "9\n",
      "16\n",
      "25\n",
      "36\n",
      "49\n",
      "64\n",
      "81\n",
      "100\n"
     ]
    }
   ],
   "source": [
    "#Q4\n",
    "#A generator function in Python is a special type of function that allows you to iterate over a potentially large sequence of data without generating the entire sequence in memory at once. It uses the yield keyword to produce a series of values, one at a time, during iteration. The key difference between a regular function and a generator function is that a generator function retains its state between calls, allowing it to resume execution from where it left off.\"\"\"\n",
    "#The yield keyword is used in a generator function to produce a value and temporarily suspend the function's execution. When the generator is iterated over, the function is executed until it encounters a yield statement. At that point, the value specified after yield is returned to the caller, and the function's state is saved. The next time the generator is iterated, it resumes execution from where it was paused, continuing until it encounters the next yield statement or reaches the end of the function.\"\"\"\n",
    "def generate_squares(limit):\n",
    "    n = 1\n",
    "    while n < limit:\n",
    "        yield n**2\n",
    "        n += 1\n",
    "squares_generator = generate_squares(11)\n",
    "for square in squares_generator:\n",
    "    print(square)\n"
   ]
  },
  {
   "cell_type": "code",
   "execution_count": 21,
   "metadata": {},
   "outputs": [
    {
     "name": "stdout",
     "output_type": "stream",
     "text": [
      "2\n",
      "3\n",
      "4\n",
      "5\n",
      "6\n",
      "7\n",
      "8\n",
      "9\n",
      "10\n",
      "11\n",
      "12\n",
      "13\n",
      "14\n",
      "15\n",
      "16\n",
      "17\n",
      "18\n",
      "19\n",
      "20\n",
      "21\n"
     ]
    }
   ],
   "source": [
    "#Q5\n",
    "def generate_primes():\n",
    "    l1=[]\n",
    "    num = 2\n",
    "    while True:\n",
    "        yield num \n",
    "        is_prime = [num % x != 0 for x in l1]\n",
    "        if is_prime:\n",
    "            l1.append(num)\n",
    "            yield num\n",
    "        num = num+1\n",
    "primes_generator = generate_primes()\n",
    "for _ in range (20):\n",
    "    print(next(primes_generator))"
   ]
  },
  {
   "cell_type": "code",
   "execution_count": null,
   "metadata": {},
   "outputs": [],
   "source": []
  }
 ],
 "metadata": {
  "kernelspec": {
   "display_name": "Python 3",
   "language": "python",
   "name": "python3"
  },
  "language_info": {
   "codemirror_mode": {
    "name": "ipython",
    "version": 3
   },
   "file_extension": ".py",
   "mimetype": "text/x-python",
   "name": "python",
   "nbconvert_exporter": "python",
   "pygments_lexer": "ipython3",
   "version": "3.11.4"
  }
 },
 "nbformat": 4,
 "nbformat_minor": 2
}
