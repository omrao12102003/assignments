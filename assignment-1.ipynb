{
 "cells": [
  {
   "cell_type": "code",
   "execution_count": 10,
   "metadata": {},
   "outputs": [
    {
     "name": "stdout",
     "output_type": "stream",
     "text": [
      "2\n",
      "3\n",
      "4\n",
      "5\n",
      "6\n",
      "[1]\n",
      "[]\n",
      "[1, 2]\n",
      "[]\n",
      "['school']\n",
      "[1, 2, 3]\n",
      "['school']\n",
      "['school', 'internship']\n",
      "[1, 2, 3, 4]\n",
      "['school', 'internship']\n",
      "[1, 2, 3, 4, 5]\n",
      "['school', 'internship']\n",
      "['school', 'internship', 'Hitesh']\n",
      "[1, 2, 3, 4, 5, 3.976]\n",
      "['school', 'internship', 'Hitesh']\n",
      "['school', 'internship', 'Hitesh', 'Microsoft']\n",
      "[1, 2, 3, 4, 5, 3.976, 9898]\n",
      "['school', 'internship', 'Hitesh', 'Microsoft']\n",
      "['school', 'internship', 'Hitesh', 'Microsoft', 'java']\n",
      "1035\n"
     ]
    }
   ],
   "source": [
    "\"Q-1-->Q1. Explain with an example each when to use a for loop and a while loop.\"\"\"\n",
    "#ans: For loops are ideal when you know in advance how many times you want to iterate. They are particularly useful when working with sequences like lists, arrays, or ranges.For loops are ideal when you know in advance how many times you want to iterate. They are particularly useful when working with sequences like lists, arrays, or ranges.\n",
    "#ex-1--->for loop\n",
    "i = int\n",
    "for i in range(1,6):\n",
    "    print(i+1)\n",
    "#ex-2--->for loop\n",
    "l5 = [1,2,\"school\",3,\"internship\",4,5,\"Hitesh\",3.976,\"Microsoft\",9898,\"java\"]\n",
    "l6_num =[]\n",
    "l7_str =[]\n",
    "for i in l5:\n",
    "    if type(i) == int or type(i) == float:\n",
    "        l6_num.append(i)\n",
    "        print(l6_num)\n",
    "    else:\n",
    "        l7_str.append(i)\n",
    "    print(l7_str)\n",
    "\n",
    "\n",
    "#while loop ---> While loops are suitable when you don't know in advance how many times you need to iterate. They continue looping until a specified condition becomes False.\n",
    "#ex-1--->while loop\n",
    "n=int(input(\"entre you limit\"))\n",
    "starting_point =  0\n",
    "counter = 1\n",
    "while counter <= n:\n",
    "    starting_point = starting_point+ counter\n",
    "    counter = counter+1\n",
    "print(starting_point)"
   ]
  },
  {
   "cell_type": "code",
   "execution_count": 11,
   "metadata": {},
   "outputs": [
    {
     "name": "stdout",
     "output_type": "stream",
     "text": [
      "Sum of the first 10 natural numbers: 55\n",
      "Product of the first 10 natural numbers: 3628800\n",
      "Sum of the first 10 natural numbers: 55\n",
      "Product of the first 10 natural numbers: 3628800\n"
     ]
    }
   ],
   "source": [
    "#Q-2\n",
    " # Using a for loop to calculate the sum and product of the first 10 natural numbers\n",
    "sum_natural = 0\n",
    "product_natural = 1\n",
    "for i in range(1, 11):\n",
    "    sum_natural += i\n",
    "    product_natural *= i\n",
    "print(\"Sum of the first 10 natural numbers:\", sum_natural)\n",
    "print(\"Product of the first 10 natural numbers:\", product_natural)\n",
    "\n",
    "# Using a while loop to calculate the sum and product of the first 10 natural numbers\n",
    "sum_natural = 0\n",
    "product_natural = 1\n",
    "counter = 1\n",
    "while counter <= 10:\n",
    "    sum_natural += counter\n",
    "    product_natural *= counter\n",
    "    counter += 1\n",
    "print(\"Sum of the first 10 natural numbers:\", sum_natural)\n",
    "print(\"Product of the first 10 natural numbers:\", product_natural)\n",
    "\n",
    "\n"
   ]
  },
  {
   "cell_type": "code",
   "execution_count": 13,
   "metadata": {},
   "outputs": [
    {
     "name": "stdout",
     "output_type": "stream",
     "text": [
      "the amount for the unit of 310 is in total rupees of 2250.0\n"
     ]
    }
   ],
   "source": [
    "#Q-3\n",
    "unit_consumed = int(input(\"entre the no of units consumes:  \"))\n",
    "total_bill = 0\n",
    "if unit_consumed <=100:\n",
    "    total_bill = unit_consumed*4.5\n",
    "elif unit_consumed <=200:\n",
    "    total_bill = 100*4.5 + (unit_consumed-100)*6\n",
    "elif unit_consumed <=300:\n",
    "    total_bill = 100*4.5 + 100*6 + (unit_consumed-200)*10\n",
    "elif unit_consumed <=400:\n",
    "    total_bill = 100*4.5 + 100*6 + 100*10 +(unit_consumed-300)*20\n",
    "print(\"the amount for the unit of\",unit_consumed,\"is in total rupees of\",total_bill)\n",
    "#as per the question units used is 310,so "
   ]
  },
  {
   "cell_type": "code",
   "execution_count": 20,
   "metadata": {},
   "outputs": [
    {
     "name": "stdout",
     "output_type": "stream",
     "text": [
      "[1, 2, 3, 4, 5, 6, 7, 8, 9, 10, 11, 12, 13, 14, 15, 16, 17, 18, 19, 20, 21, 22, 23, 24, 25, 26, 27, 28, 29, 30, 31, 32, 33, 34, 35, 36, 37, 38, 39, 40, 41, 42, 43, 44, 45, 46, 47, 48, 49, 50, 51, 52, 53, 54, 55, 56, 57, 58, 59, 60, 61, 62, 63, 64, 65, 66, 67, 68, 69, 70, 71, 72, 73, 74, 75, 76, 77, 78, 79, 80, 81, 82, 83, 84, 85, 86, 87, 88, 89, 90, 91, 92, 93, 94, 95, 96, 97, 98, 99, 100]\n",
      "[8, 64, 125, 216, 512, 1000, 1728, 2744, 3375, 4096, 5832, 8000, 10648, 13824, 15625, 17576, 21952, 27000, 32768, 39304, 42875, 46656, 54872, 64000, 74088, 85184, 91125, 97336, 110592, 125000, 140608, 157464, 166375, 175616, 195112, 216000, 238328, 262144, 274625, 287496, 314432, 343000, 373248, 405224, 421875, 438976, 474552, 512000, 551368, 592704, 614125, 636056, 681472, 729000, 778688, 830584, 857375, 884736, 941192, 1000000]\n",
      "[8, 64, 125, 216, 512, 1000, 1728, 2744, 3375, 4096, 5832, 8000, 10648, 13824, 15625, 17576, 21952, 27000, 32768, 39304, 42875, 46656, 54872, 64000, 74088, 85184, 91125, 97336, 110592, 125000, 140608, 157464, 166375, 175616, 195112, 216000, 238328, 262144, 274625, 287496, 314432, 343000, 373248, 405224, 421875, 438976, 474552, 512000, 551368, 592704, 614125, 636056, 681472, 729000, 778688, 830584, 857375, 884736, 941192, 1000000]\n"
     ]
    }
   ],
   "source": [
    "#Q-4\n",
    "number_list=[i for i in range(1,101)]\n",
    "print(number_list)\n",
    "\n",
    "l1=[]\n",
    "number = int\n",
    "for number in range(1,101):\n",
    "    cube = number**3\n",
    "    if cube%4==0 or cube%5==0:\n",
    "        l1.append(cube)\n",
    "print(l1)\n",
    "\n",
    "l2=[]\n",
    "number=1\n",
    "while number <=100:\n",
    "    cube = number**3\n",
    "    if cube%4==0 or cube%5==0:\n",
    "        l2.append(cube)\n",
    "    number = number+1\n",
    "print(l2)"
   ]
  },
  {
   "cell_type": "markdown",
   "metadata": {},
   "source": []
  },
  {
   "cell_type": "code",
   "execution_count": null,
   "metadata": {},
   "outputs": [],
   "source": []
  },
  {
   "cell_type": "code",
   "execution_count": null,
   "metadata": {},
   "outputs": [],
   "source": []
  }
 ],
 "metadata": {
  "kernelspec": {
   "display_name": "Python 3",
   "language": "python",
   "name": "python3"
  },
  "language_info": {
   "codemirror_mode": {
    "name": "ipython",
    "version": 3
   },
   "file_extension": ".py",
   "mimetype": "text/x-python",
   "name": "python",
   "nbconvert_exporter": "python",
   "pygments_lexer": "ipython3",
   "version": "3.11.4"
  }
 },
 "nbformat": 4,
 "nbformat_minor": 2
}
